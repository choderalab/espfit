{
 "cells": [
  {
   "cell_type": "markdown",
   "id": "0b9fbeca",
   "metadata": {},
   "source": [
    "# Mock code for preparing and loading data for training espaloma"
   ]
  },
  {
   "cell_type": "raw",
   "id": "8186ab1d",
   "metadata": {},
   "source": [
    "import espaloma\n",
    "import espfit"
   ]
  },
  {
   "cell_type": "markdown",
   "id": "58b0605b",
   "metadata": {},
   "source": [
    "## Download QC datasets from QCArchive as HDF5 (SKIP IMPLEMENTATION) \n",
    "\n",
    "This functionality will not be implemented at the moment and alternatively rely on external scripts (e.g. https://github.com/choderalab/download-qca-datasets)."
   ]
  },
  {
   "cell_type": "raw",
   "id": "0574589f",
   "metadata": {},
   "source": [
    "# place holder\n",
    "\n",
    "outdir='/DATASET_HDF_PATH/MYDATA' \n",
    "outfile='small_basic.hdf5'\n",
    "\n",
    "espfit.utils.data.download_qcarchive(workflow='Datataset', \n",
    "                                     qc_specification='default', \n",
    "                                     outdir=outdir,\n",
    "                                     outfile=outfile\n",
    "                                     )\n",
    "#> raise NotImplemented Error"
   ]
  },
  {
   "cell_type": "markdown",
   "id": "701a60e0",
   "metadata": {},
   "source": [
    "## Convert HDF5 to DGL graphs (SKIP IMPLEMENTATION)\n",
    "\n",
    "This function will not be implemented at the moment and alternatively rely on external scripts (e.g. https://github.com/choderalab/refit-espaloma/blob/main/openff-default/01-create-dataset/script/getgraph_hdf5.py)."
   ]
  },
  {
   "cell_type": "raw",
   "id": "a3d9e20d",
   "metadata": {},
   "source": [
    "# place holder\n",
    "\n",
    "indir = '/DATASET_HDF_PATH/MYDATA'\n",
    "outdir = '/DATASET_DGL_PATH/MYDATA'\n",
    "\n",
    "_filenames = [ 'small_basic.hdf5', 'small_optimize.hdf5', 'small_torsiondrive.hdf5', 'peptide_basic.hdf5', 'peptide_optimize.hdf5', 'peptide_torsiondrive.hdf5' ]\n",
    "filenames = [ os.path.join(indir, filename) for filename in _filenames ]\n",
    "\n",
    "for filename in filenames:\n",
    "    ds += espfit.utils.data.hdf5_to_dgl(infile=filename,outdir=outdir)\n",
    "    \n",
    "#> raise NotImplemented Error"
   ]
  },
  {
   "cell_type": "markdown",
   "id": "f2bc8fa4",
   "metadata": {},
   "source": [
    "## Filter DGL graphs (SKIP IMPLEMENTATION)\n",
    "\n",
    "This function will not be implemented at the moment and rely on external scripts (e.g. https://github.com/choderalab/refit-espaloma/tree/main/openff-default/02-train/merge-data/script)."
   ]
  },
  {
   "cell_type": "raw",
   "id": "3f31543d",
   "metadata": {},
   "source": [
    "# place holder\n",
    "\n",
    "outdir = '/DATASET_DGL_PATH/MYDATA/FILTERED'\n",
    "ds.filter(min_energy=0.1,\n",
    "          min_conformer=3,\n",
    "          compute_am1bcc='AM1BCC-ELF10', \n",
    "          compute_baseline_forcefields=forcefield_list, \n",
    "          compute_relative_energy=True,\n",
    "          subtract_nonbonded=True,\n",
    "          base_forcefiled='openff-2.0.0',\n",
    "          inplace=False,\n",
    "          outdir=outdir\n",
    "         )\n",
    "            \n",
    "#> raise NotImplemented Error"
   ]
  },
  {
   "cell_type": "markdown",
   "id": "28ca8a37",
   "metadata": {},
   "source": [
    "## Load preprocessed DGL graphs"
   ]
  },
  {
   "cell_type": "raw",
   "id": "5ebb3194",
   "metadata": {},
   "source": [
    "indir = '/DATASET_DGL_PATH/MYDATA/FILTERED/*'   # single path or list of paths\n",
    "ds = espfit.utils.data.load(in_prefix)"
   ]
  },
  {
   "cell_type": "markdown",
   "id": "e8f6ea04",
   "metadata": {},
   "source": [
    "#### Check properties"
   ]
  },
  {
   "cell_type": "raw",
   "id": "bafd3cce",
   "metadata": {},
   "source": [
    "ds.n_data   # number of data (entries)\n",
    "#> 100"
   ]
  },
  {
   "cell_type": "raw",
   "id": "8e6850ed",
   "metadata": {},
   "source": [
    "ds.n_conf   # number of conformations\n",
    "#> 10000"
   ]
  },
  {
   "cell_type": "raw",
   "id": "93e19e69",
   "metadata": {},
   "source": [
    "ds.elements   # elements\n",
    "#> H,B,Br,C,N,O,I"
   ]
  },
  {
   "cell_type": "raw",
   "id": "375898d8",
   "metadata": {},
   "source": [
    "ds.duplicate_isomeric_smiles   # isomeric smiles\n",
    "#> returns list of duplicate isomeric smiles"
   ]
  },
  {
   "cell_type": "raw",
   "id": "985f9e92",
   "metadata": {},
   "source": [
    "ds.duplicate_nonisomeric_smiles   # nonisomeric smiles\n",
    "#> returns list of duplicate nonisomeric smiles"
   ]
  },
  {
   "cell_type": "markdown",
   "id": "4a6cf1e1",
   "metadata": {},
   "source": [
    "#### Drop/merge duplicate smiles and filter datasets\n",
    "\n",
    "Ensure the datasets loaded from different sources have no duplicated smiles.  \n",
    "Drop duplicate isomeric (nonisomeric) smiles across different sources of datasets.  \n",
    "Merge duplicate dgl graphs with same smiles into a single dgl graph and create a new dataset called 'misc'."
   ]
  },
  {
   "cell_type": "markdown",
   "id": "0138961b",
   "metadata": {},
   "source": [
    "##### drop and merge smiles"
   ]
  },
  {
   "cell_type": "raw",
   "id": "564131fd",
   "metadata": {},
   "source": [
    "outdir = '/DATASET_DGL_PATH/MYDATA'\n",
    "ds.drop_merge_nonisomeric_smiles(outdir=outdir, outname='misc')   # miscellaneous\n",
    "\n",
    "# Alteratively,\n",
    "ds.drop_merge_isomeric_smiles(outdir=outdir, outname='misc')"
   ]
  },
  {
   "cell_type": "markdown",
   "id": "c7056ee5",
   "metadata": {},
   "source": [
    "##### filter dataset"
   ]
  },
  {
   "cell_type": "raw",
   "id": "0ffe0946",
   "metadata": {},
   "source": [
    "# Add misc dataset that was just created\n",
    "ds += espfit.utils.data.load('/DATASET_DGL_PATH/MYDATA/misc')\n",
    "\n",
    "# Filter all dataset\n",
    "outdir = '/DATASET_DGL_PATH/MYDATA/FILTERED'\n",
    "ds.filter(min_energy=0.1,\n",
    "          min_conformer=3,\n",
    "          compute_am1bcc=None, \n",
    "          compute_baseline_forcefields=None, \n",
    "          compute_relative_energy=True,\n",
    "          subtract_nonbonded=True,\n",
    "          base_forcefiled='openff-2.0.0',\n",
    "          inplace=False,\n",
    "          outdir=outdir\n",
    "          )"
   ]
  },
  {
   "cell_type": "raw",
   "id": "b992f4e2",
   "metadata": {},
   "source": [
    "# Alternatively, we could just filter the misc data and reload all filtered dataset later\n",
    "\n",
    "outdir = '/DATASET_DGL_PATH/MYDATA/FILTERED'\n",
    "misc_data = espfit.utils.data.load('/DATASET_DGL_PATH/MYDATA/misc')\n",
    "misc_data.filter(min_energy=0.1,\n",
    "                 min_conformer=3,\n",
    "                 compute_am1bcc=None, \n",
    "                 compute_baseline_forcefields=None, \n",
    "                 compute_relative_energy=True,\n",
    "                 subtract_nonbonded=True,\n",
    "                 base_forcefiled='openff-2.0.0',\n",
    "                 inplace=False,\n",
    "                 outdir=outdir\n",
    "                 )\n",
    "\n",
    "# load filtered\n",
    "input_dirs = glob.glob('/DATASET_DGL_PATH/MYDATA/FILTERED/*')   # list of paths\n",
    "ds = espfit.utils.data.load(input_dirs)"
   ]
  },
  {
   "cell_type": "markdown",
   "id": "4bb1b93c",
   "metadata": {},
   "source": [
    "## Prepare for training"
   ]
  },
  {
   "cell_type": "markdown",
   "id": "d17abcbc",
   "metadata": {},
   "source": [
    "#### Split datasets"
   ]
  },
  {
   "cell_type": "raw",
   "id": "f80c0794",
   "metadata": {},
   "source": [
    "RANDOM_SEED = 2666\n",
    "ds.shuffle(RANDOM_SEED)\n",
    "\n",
    "ds_tr, ds_vl_te = ds.split(0.8, 0.2)\n",
    "ds_vl, ds_te = ds_vl_te.split(0.5, 0.5)"
   ]
  },
  {
   "cell_type": "markdown",
   "id": "3d13e50c",
   "metadata": {},
   "source": [
    "#### Augment conformations to handle heterographs\n",
    "\n",
    "This is a work around to handle different graph size (shape). DGL requires at least one dimension with same size. \n",
    "Here, we will modify the graphs so that each graph has the same number of conformations instead fo concatenating \n",
    "graphs into heterogenous graphs with the same number of conformations. This will allow batching and shuffling \n",
    "during the training. "
   ]
  },
  {
   "cell_type": "raw",
   "id": "3d6f87c9",
   "metadata": {},
   "source": [
    "# Remove unnecessary data from graph in backend? (will this speed up training?)\n",
    "# e.g. g.nodes['g'].data.pop('u_qm')\n",
    "\n",
    "outdir = '/DATASET_DGL_PATH/MYDATA/FILTERED/RESHAPE'\n",
    "ds_tr.reshape(n_conf=50,\n",
    "              preserve_min=True,\n",
    "              inplace=True,\n",
    "              outdir=outdir,\n",
    "              verbose=1,\n",
    "             )"
   ]
  },
  {
   "cell_type": "raw",
   "id": "8a0c9316",
   "metadata": {},
   "source": [
    "# regenerate impropers (forgot why we need to do this)\n",
    "ds_tr.apply(regenerate_impropers, in_place=True)"
   ]
  },
  {
   "cell_type": "markdown",
   "id": "ee812fb9",
   "metadata": {},
   "source": [
    "## Train espaloma"
   ]
  },
  {
   "cell_type": "raw",
   "id": "2787e71b",
   "metadata": {},
   "source": [
    "# initialize\n",
    "model = espfit.app.experiment()"
   ]
  },
  {
   "cell_type": "raw",
   "id": "6fc16e7b",
   "metadata": {},
   "source": [
    "# define espaloma architecture\n",
    "\n",
    "import yaml\n",
    "with open('config.yml', 'r') as file:\n",
    "    config = yaml.safe_load(file)    \n",
    "    \n",
    "# Possible methods\n",
    "# 1. call predefined model?\n",
    "model.call(model_name='model1')\n",
    "# 2. create model using yaml config\n",
    "model.create(config=config)"
   ]
  },
  {
   "cell_type": "raw",
   "id": "719e38a0",
   "metadata": {},
   "source": [
    "# check neural network model\n",
    "\n",
    "model.net\n",
    "#> returns neural network architecture"
   ]
  },
  {
   "cell_type": "raw",
   "id": "c57b935f",
   "metadata": {},
   "source": [
    "# load dataset\n",
    "\n",
    "model.train_data = ds_tr\n",
    "model.val_data   = ds_vl\n",
    "model.test_data  = ds_te"
   ]
  },
  {
   "cell_type": "raw",
   "id": "3f708b88",
   "metadata": {},
   "source": [
    "# check data property (e.g.)\n",
    "\n",
    "model.train_data.n_data\n",
    "model.train_data.n_conf\n",
    "model.train_data.elements"
   ]
  },
  {
   "cell_type": "raw",
   "id": "b6fa125a",
   "metadata": {},
   "source": [
    "# save checkpoint file to `checkpoints` every 10 epochs\n",
    "# restart training from checkpoint file\n",
    "# validation is excluded from the training to decrease inference time\n",
    "\n",
    "model.train(steps, lr, batch_size, restart=checkpoint, checkpoint_frequency=10, logfile=logfile, verbose=1)"
   ]
  },
  {
   "cell_type": "markdown",
   "id": "bbcfa5ea",
   "metadata": {},
   "source": [
    "#### Validate and find best model\n",
    "\n",
    "Use job array to speed up this process using external scripts (e.g. https://github.com/choderalab/refit-espaloma/tree/main/openff-default/02-train/joint-improper-charge/charge-weight-1.0/eval)"
   ]
  },
  {
   "cell_type": "markdown",
   "id": "5f25f458",
   "metadata": {},
   "source": [
    "## Alternatively, train and validate simultaneously\n",
    "\n",
    "Not sure how slower this will be compared to just doing trainig"
   ]
  },
  {
   "cell_type": "raw",
   "id": "8f3513d9",
   "metadata": {},
   "source": [
    "model.train_val(steps, lr, batch_size, restart=checkpoint, checkpoint_frequency=10, logfile=logfile, verbose=1, early_stopping=800, patience=5)"
   ]
  },
  {
   "cell_type": "raw",
   "id": "6e95f618",
   "metadata": {},
   "source": [
    "# save model\n",
    "model.save()   # saves best model as 'model.pt'\n",
    "\n",
    "# plot loss validation\n",
    "model.plot_loss()"
   ]
  },
  {
   "cell_type": "markdown",
   "id": "b71781ab",
   "metadata": {},
   "source": [
    "## Benchmark"
   ]
  },
  {
   "cell_type": "markdown",
   "id": "2c1ca265",
   "metadata": {},
   "source": [
    "#### RMSE metric"
   ]
  },
  {
   "cell_type": "raw",
   "id": "c9e92a7c",
   "metadata": {},
   "source": [
    "RANDOM_SEED = 2666\n",
    "indir='/DATASET_DGL_PATH/MYDATA/FILTERED/RESHAPE'\n",
    "data_split_size = [0.8, 0.1, 0.1]\n",
    "best_model = 'model.pt'\n",
    "\n",
    "df = espfit.utils.rmse_metric(best_model, indir, data_split_size, RANDOM_SEED)   # pandas dataframe\n",
    "df.to_csv('rmse_metric.csv', index=False, sep='¥t', float_format='%.3f')"
   ]
  },
  {
   "cell_type": "markdown",
   "id": "9e483289",
   "metadata": {},
   "source": [
    "#### Run other benchmarks independantly.\n",
    "\n",
    "- Small molecule geometry optmization (https://github.com/choderalab/geometry-benchmark-espaloma/tree/main/qc-opt-geo)\n",
    "- ESP benchmark"
   ]
  },
  {
   "cell_type": "markdown",
   "id": "b4b7d2da",
   "metadata": {},
   "source": [
    "## Train espaloma with experimental observable refitting\n",
    "\n",
    "- `espfit_experiment/`\n",
    "    - `data/`: Cached dataset ready for training\n",
    "    - `utils/`: Stores scripts to run external benchmarks\n",
    "        - `small_molecule_geometry`\n",
    "            - geo.py\n",
    "        - `partial_charge_esp`\n",
    "            - ele.py\n",
    "        - `rna_nucleoside`\n",
    "            - rna_nucleoside.py\n",
    "        - `rna_tetramer`:\n",
    "            - rna_tetramer.py\n",
    "    - `experiment/`\n",
    "        - `001/`: Create new directory for each refitting experiment\n",
    "            - `xml/`: Stores openmm xml\n",
    "            - `refit/`: Espaloma training\n",
    "                - `checkpoints/`: Stores checkpoint files\n",
    "                - `sampling/`: MD simulation\n",
    "                    - `iter_0`: Initial MD sampling\n",
    "                    - `iter_n`: MD sampling at epoch-n when necesssary\n",
    "                - `train.log`: Log file during espaloma training\n",
    "            - `benchmark/`\n",
    "                - `rmse_metric`\n",
    "                - `small_molecule_geometry`\n",
    "                - `partial_charge_esp`\n",
    "                - `rna_nucleoside`\n",
    "                - `rna_tetramer`"
   ]
  },
  {
   "cell_type": "markdown",
   "id": "6314a224",
   "metadata": {},
   "source": [
    "#### Basic usage to run simulations for registered systems"
   ]
  },
  {
   "cell_type": "raw",
   "id": "e38798b6",
   "metadata": {},
   "source": [
    "# check registered systems\n",
    "registered_systems = espfit.system.available()\n",
    "\n",
    "registered_systems.get_names\n",
    "#> ['A', 'G', 'C', 'U', 'ApA']\n",
    "\n",
    "registered_systems.get('name').observables\n",
    "#> returns pandas dataframe with all experimental obervables and corresponding literature"
   ]
  },
  {
   "cell_type": "markdown",
   "id": "bb59040f",
   "metadata": {},
   "source": [
    "##### Prepare system"
   ]
  },
  {
   "cell_type": "raw",
   "id": "e0c105d7",
   "metadata": {},
   "source": [
    "system = registered_systems.get('name')\n",
    "simulation = system.setup(system_name=name, espaloma_model = 'model.pt', config=config, outdir=outdir)   # save xml\n",
    "\n",
    "# minimize\n",
    "simulation.min()"
   ]
  },
  {
   "cell_type": "markdown",
   "id": "b90200e8",
   "metadata": {},
   "source": [
    "##### Load a system already prepared"
   ]
  },
  {
   "cell_type": "raw",
   "id": "7505bdaa",
   "metadata": {},
   "source": [
    "system = espfit.system.load()"
   ]
  },
  {
   "cell_type": "markdown",
   "id": "a87743aa",
   "metadata": {},
   "source": [
    "##### Run simulation"
   ]
  },
  {
   "cell_type": "raw",
   "id": "079dc6cc",
   "metadata": {},
   "source": [
    "simulation.run(steps=100)   # standard MD?"
   ]
  },
  {
   "cell_type": "markdown",
   "id": "62bc21bf",
   "metadata": {},
   "source": [
    "##### Compute loss"
   ]
  },
  {
   "cell_type": "raw",
   "id": "f8e6646e",
   "metadata": {},
   "source": [
    "obs_exp = system.get_experimental_value()\n",
    "obs_calc = simulation.compute_observable()\n",
    "loss = simulation.compute_loss(obs_exp, obs_calc)"
   ]
  },
  {
   "cell_type": "markdown",
   "id": "af7ed26c",
   "metadata": {},
   "source": [
    "##### Reweight observable using updated espaloma model"
   ]
  },
  {
   "cell_type": "raw",
   "id": "acd47fe3",
   "metadata": {},
   "source": [
    "result = simulation.compute_reweighted_observable(update_espaloma_model='new.pt')\n",
    "\n",
    "# reweighted observable\n",
    "obs_calc = result.observable\n",
    "\n",
    "# effective sample size\n",
    "n_eff = result.effective_sample_size\n",
    "\n",
    "# loss with reweighted observable\n",
    "loss = simulation.compute_loss(obs_exp, obs_calc)"
   ]
  },
  {
   "cell_type": "markdown",
   "id": "1ee5b5c1",
   "metadata": {},
   "source": [
    "## Pseudo code for training espaloma with reweighting on the fly"
   ]
  },
  {
   "cell_type": "raw",
   "id": "faf47852",
   "metadata": {},
   "source": [
    "RANDOM_SEED = 2666\n",
    "\n",
    "input_dirs = glob.glob('/DATASET_DGL_PATH/MYDATA/FILTERED/RESHAPE/*')   # list of paths\n",
    "ds = espfit.utils.data.load(input_dirs)\n",
    "ds.shuffle(RANDOM_SEED)\n",
    "\n",
    "ds_tr, ds_vl_te = ds.split(0.8, 0.2)\n",
    "ds_vl, ds_te = ds_vl_te.split(0.5, 0.5)"
   ]
  },
  {
   "cell_type": "raw",
   "id": "f6af66df",
   "metadata": {},
   "source": [
    "model = espfit.app.experiment()\n",
    "\n",
    "with open('config.yml', 'r') as file:\n",
    "    config = yaml.safe_load(file)    \n",
    "model.create(config=config)"
   ]
  },
  {
   "cell_type": "markdown",
   "id": "aacd262b",
   "metadata": {},
   "source": [
    "##### Run simulation"
   ]
  },
  {
   "cell_type": "raw",
   "id": "e8b59012",
   "metadata": {},
   "source": [
    "system = registered_systems.get('A')\n",
    "simulation = system.setup(system_name=name, espaloma_model = 'model.pt', config=config, outdir=outdir)   # save xml\n",
    "simulation.min()\n",
    "simulation.run(1000)"
   ]
  },
  {
   "cell_type": "markdown",
   "id": "1b782f65",
   "metadata": {},
   "source": [
    "##### Get experimental observables"
   ]
  },
  {
   "cell_type": "raw",
   "id": "a91f3072",
   "metadata": {},
   "source": [
    "obs_exp = system.get_experimental_value()"
   ]
  },
  {
   "cell_type": "markdown",
   "id": "f5c08a85",
   "metadata": {},
   "source": [
    "##### Train with MD reweighting"
   ]
  },
  {
   "cell_type": "raw",
   "id": "f747c5ee",
   "metadata": {},
   "source": [
    "ds_tr_loader = dgl.dataloading.GraphDataLoader(ds_tr, batch_size=batch_size, shuffle=True)\n",
    "optimizer = torch.optim.Adam(model.net().parameters(), lr=learning_rate)\n",
    "\n",
    "with torch.autograd.set_detect_anomaly(True):\n",
    "    for idx in range(steps):\n",
    "        n_eff = []   # store effective sample size\n",
    "        for g in ds_tr_loader:\n",
    "            optimizer.zero_grad()\n",
    "            g = g.to(\"cuda:0\")\n",
    "            g.nodes[\"n1\"].data[\"xyz\"].requires_grad = True \n",
    "            \n",
    "            # Original espaloma loss\n",
    "            loss = net(g)\n",
    "\n",
    "            # Reweighting\n",
    "            result = simulation.compute_reweighted_observable(net)\n",
    "            obs_calc = result.observable\n",
    "            loss_obs = simulation.compute_loss(obs_exp, obs_calc)\n",
    "            \n",
    "            n_eff += result.n_eff\n",
    "            \n",
    "            # Joint loss\n",
    "            loss += weight * result.reweighted_observable\n",
    "            \n",
    "            loss.backward()\n",
    "            optimizer.step()\n",
    "            \n",
    "            # save checkpoint file \n",
    "            if idx % 10 == 0:\n",
    "                if not os.path.exists(output_prefix):\n",
    "                    os.mkdir(output_prefix)\n",
    "                torch.save(net.state_dict(), output_prefix + \"/net%s.pth\" % idx)\n",
    "                \n",
    "        # Averaged effective samples\n",
    "        if n_eff.mean() < effective_sample_size_tolerance:\n",
    "            # rebuild system with current net model\n",
    "            # rerun simulation\n",
    "            # cache new trajectory\n",
    "            simulation.rebuild()\n",
    "            simulation.run()"
   ]
  },
  {
   "cell_type": "raw",
   "id": "e83551f6",
   "metadata": {},
   "source": []
  },
  {
   "cell_type": "raw",
   "id": "e8ffeac9",
   "metadata": {},
   "source": []
  },
  {
   "cell_type": "raw",
   "id": "2dfbbf75",
   "metadata": {},
   "source": []
  },
  {
   "cell_type": "raw",
   "id": "ee3337d7",
   "metadata": {},
   "source": []
  },
  {
   "cell_type": "markdown",
   "id": "74a73b6f",
   "metadata": {},
   "source": [
    "#### Wrapper"
   ]
  },
  {
   "cell_type": "raw",
   "id": "b97b9343",
   "metadata": {},
   "source": [
    "espfit.train_reweight(steps, \n",
    "                      lr, \n",
    "                      batch_size, \n",
    "                      restart=checkpoint, \n",
    "                      checkpoint_frequency=10, \n",
    "                      logfile=logfile, \n",
    "                      verbose=1,\n",
    "                      target_config=t\n",
    "                      eff_samples=0.7\n",
    ")"
   ]
  },
  {
   "cell_type": "raw",
   "id": "82b520de",
   "metadata": {},
   "source": []
  },
  {
   "cell_type": "raw",
   "id": "9197a199",
   "metadata": {},
   "source": []
  }
 ],
 "metadata": {
  "kernelspec": {
   "display_name": "Python 3 (ipykernel)",
   "language": "python",
   "name": "python3"
  },
  "language_info": {
   "codemirror_mode": {
    "name": "ipython",
    "version": 3
   },
   "file_extension": ".py",
   "mimetype": "text/x-python",
   "name": "python",
   "nbconvert_exporter": "python",
   "pygments_lexer": "ipython3",
   "version": "3.10.5"
  }
 },
 "nbformat": 4,
 "nbformat_minor": 5
}
